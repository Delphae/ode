{
 "cells": [
  {
   "cell_type": "code",
   "execution_count": null,
   "metadata": {},
   "outputs": [],
   "source": [
    "#    ____       _       _\n",
    "#   |  _ \\  ___| |_ __ | |__   __ _  ___\n",
    "#   | | | |/ _ \\ | '_ \\| '_ \\ / _` |/ _ \\\n",
    "#   | |_| |  __/ | |_) | | | | (_| |  __/\n",
    "#   |____/ \\___|_| .__/|_| |_|\\__,_|\\___|\n",
    "#                |_|"
   ]
  },
  {
   "cell_type": "code",
   "execution_count": 1,
   "metadata": {},
   "outputs": [
    {
     "name": "stdout",
     "output_type": "stream",
     "text": [
      "Populating the interactive namespace from numpy and matplotlib\n"
     ]
    }
   ],
   "source": [
    "%pylab inline\n",
    "from scipy.integrate import odeint\n",
    "from scipy.misc import derivative"
   ]
  },
  {
   "cell_type": "markdown",
   "metadata": {},
   "source": [
    "Handbook for Exact Solutions for Ordinary Diff. Eq. , Second Edition<br>\n",
    "Polyanin, Zaitsev<br>\n",
    "par. 2.1.2, item 123<br>"
   ]
  },
  {
   "cell_type": "markdown",
   "metadata": {},
   "source": [
    "### Euler equation\n",
    "#### solve\n",
    "$\n",
    "x^2y''+axy'+by=0,\\ a=0,\\ b=\\frac{1}{4}\n",
    "$\n",
    "<br>\n",
    "so that $(1-a)^2 = 4b$\n",
    "<br>\n",
    "\n",
    "devide by $x^2$ gives<br>\n",
    "$\n",
    "y''+\\frac{1}{4x^2}y=0\n",
    "$\n",
    "\n",
    "#### solution\n",
    "$\n",
    "y = |x|^\\frac{1}{2}\\cdot (c_1+c_2ln(x))\n",
    "$"
   ]
  },
  {
   "cell_type": "markdown",
   "metadata": {},
   "source": [
    "### from exact (y) to odeint (y'')"
   ]
  },
  {
   "cell_type": "code",
   "execution_count": 2,
   "metadata": {},
   "outputs": [
    {
     "name": "stdout",
     "output_type": "stream",
     "text": [
      "1.0 1.4999999999876223\n"
     ]
    },
    {
     "data": {
      "image/png": "[encoded data removed]",
      "text/plain": [
       "<Figure size 432x288 with 1 Axes>"
      ]
     },
     "metadata": {
      "needs_background": "light"
     },
     "output_type": "display_data"
    }
   ],
   "source": [
    "# exact\n",
    "c1 = 1.0\n",
    "c2 = 1.0\n",
    "\n",
    "def Y(x):\n",
    "    x = np.abs(x)\n",
    "    return np.sqrt(x)*(c1+c2*np.log(x))\n",
    "def dY(x):\n",
    "    return derivative(Y, x, dx=1e-6)\n",
    "\n",
    "def func((y0,y1), x):\n",
    "    y2 = -y0/(4*x*x)\n",
    "    return y1, y2\n",
    "\n",
    "# odeint\n",
    "y0 = Y(1)\n",
    "y1 = dY(1)\n",
    "print y0, y1\n",
    "x = np.linspace(1,500)\n",
    "ys = odeint(func, [y0,y1], x)\n",
    "\n",
    "# plot\n",
    "plt.plot (x, ys[:,0], '-.', label=\"y (odeint)\", lw=2)\n",
    "plt.plot (x, Y(x), ':', label=\"y (exact)\", lw=2)\n",
    "plt.xlabel('x')\n",
    "plt.ylabel('y')\n",
    "plt.legend();\n",
    "plt.grid(True);"
   ]
  },
  {
   "cell_type": "markdown",
   "metadata": {},
   "source": [
    "### from y'' to exact"
   ]
  },
  {
   "cell_type": "code",
   "execution_count": 25,
   "metadata": {},
   "outputs": [
    {
     "name": "stdout",
     "output_type": "stream",
     "text": [
      "2 4.0\n"
     ]
    },
    {
     "data": {
      "image/png": "[encoded data removed]",
      "text/plain": [
       "<Figure size 432x288 with 1 Axes>"
      ]
     },
     "metadata": {
      "needs_background": "light"
     },
     "output_type": "display_data"
    }
   ],
   "source": [
    "# exact\n",
    "def func((y0,y1), x):\n",
    "    y2 = -y0/(4*x*x)\n",
    "    return y1, y2\n",
    "\n",
    "\n",
    "# odeint\n",
    "#x = np.linspace(1,10)\n",
    "ys = odeint(func, [y0,y1], x)\n",
    "\n",
    "c1 = y0\n",
    "c2 = y1-0.5*y0\n",
    "print c1, c2\n",
    "def Y(x):\n",
    "    x = np.abs(x)\n",
    "    return np.sqrt(x)*(c1+c2*np.log(x))\n",
    "\n",
    "# plot\n",
    "plt.plot (x, ys[:,0], '-.', label=\"y (odeint)\", lw=2)\n",
    "plt.plot (x, Y(x), ':', label=\"y (exact)\", lw=2)\n",
    "plt.xlabel('x')\n",
    "plt.ylabel('y')\n",
    "plt.legend();\n",
    "plt.grid(True);"
   ]
  },
  {
   "cell_type": "markdown",
   "metadata": {},
   "source": [
    "#### Euler equation\n",
    "#### solve\n",
    "$\n",
    "x^2y''+axy'+by=0, a=-1, b=1\n",
    "$\n",
    "<br>\n",
    "so that $(1-a)^2 = 4b$\n",
    "\n",
    "devide by $x^2$ gives\n",
    "<br>\n",
    "$\n",
    "y''-\\frac{1}{x}y+\\frac{1}{x^2}y=0\n",
    "$\n",
    "\n",
    "#### solution\n",
    "$\n",
    "y = |x|\\cdot (c_1+c_2ln(x))\n",
    "$"
   ]
  },
  {
   "cell_type": "code",
   "execution_count": 24,
   "metadata": {},
   "outputs": [
    {
     "name": "stdout",
     "output_type": "stream",
     "text": [
      "2 3\n"
     ]
    },
    {
     "data": {
      "image/png": "[encoded data removed]",
      "text/plain": [
       "<Figure size 432x288 with 1 Axes>"
      ]
     },
     "metadata": {
      "needs_background": "light"
     },
     "output_type": "display_data"
    }
   ],
   "source": [
    "def func((y0,y1), x):\n",
    "    y2 = y1/x - y0/(x*x)\n",
    "    return y1, y2\n",
    "\n",
    "y0 = 2\n",
    "y1 = 5\n",
    "\n",
    "# odeint\n",
    "x = np.linspace(1,100)\n",
    "ys = odeint(func, [y0,y1], x)\n",
    "\n",
    "# exact\n",
    "c1 = y0\n",
    "c2 = y1-y0\n",
    "print c1, c2\n",
    "def Y(x):\n",
    "    x = np.abs(x)\n",
    "    return x*(c1+c2*np.log(x))\n",
    "\n",
    "# plot\n",
    "plt.plot (x, ys[:,0], '-.', label=\"y (odeint)\", lw=2)\n",
    "plt.plot (x, Y(x), ':', label=\"y (exact)\", lw=2)\n",
    "plt.xlabel('x')\n",
    "plt.ylabel('y')\n",
    "#plt.yscale('log')\n",
    "plt.legend();\n",
    "plt.grid(True);"
   ]
  },
  {
   "cell_type": "code",
   "execution_count": null,
   "metadata": {},
   "outputs": [],
   "source": []
  }
 ],
 "metadata": {
  "kernelspec": {
   "display_name": "Python 2",
   "language": "python",
   "name": "python2"
  },
  "language_info": {
   "codemirror_mode": {
    "name": "ipython",
    "version": 2
   },
   "file_extension": ".py",
   "mimetype": "text/x-python",
   "name": "python",
   "nbconvert_exporter": "python",
   "pygments_lexer": "ipython2",
   "version": "2.7.15rc1"
  }
 },
 "nbformat": 4,
 "nbformat_minor": 2
}
