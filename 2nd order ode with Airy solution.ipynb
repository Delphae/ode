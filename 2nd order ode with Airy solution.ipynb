{
 "cells": [
  {
   "cell_type": "code",
   "execution_count": 13,
   "metadata": {},
   "outputs": [
    {
     "name": "stdout",
     "output_type": "stream",
     "text": [
      "Populating the interactive namespace from numpy and matplotlib\n"
     ]
    }
   ],
   "source": [
    "%pylab inline\n",
    "from scipy.integrate import odeint\n",
    "from scipy.special import airy\n",
    "from scipy.optimize import fsolve"
   ]
  },
  {
   "cell_type": "markdown",
   "metadata": {},
   "source": [
    "Handbook for Exact Solutions for Ordinary Diff. Eq. , Second Edition<br>\n",
    "Polyanin, Zaitsev<br>\n",
    "par. 2.1.2, item 2, page 213<br>\n",
    "\n",
    "https://docs.scipy.org/doc/scipy/reference/generated/scipy.special.airy.html"
   ]
  },
  {
   "cell_type": "markdown",
   "metadata": {},
   "source": [
    "solve\n",
    "$\n",
    "y''-(ax+b)\\cdot y=0\n",
    "$\n",
    "\n",
    "<br>\n",
    "substitute\n",
    "$\n",
    "u = a^\\frac{-2}{3}\\cdot (ax+b)\n",
    "$\n",
    "\n",
    "<br>\n",
    "then solve\n",
    "$\n",
    "y''-uy=0\n",
    "$\n",
    "\n",
    "gives:\n",
    "$\n",
    "y = c_1Ai(u)+c_2Bi(u)\n",
    "$\n",
    "<br>\n",
    "with Ai and Bi are Airy functions\n",
    "\n",
    "$\n",
    "y' = c_1Aip(u)\\cdot u' + c_2Bip(u)\\cdot u'\n",
    "$\n",
    "<br>\n",
    "with Aip and Bip are derivative of the Airy functions\n"
   ]
  },
  {
   "cell_type": "code",
   "execution_count": 97,
   "metadata": {},
   "outputs": [],
   "source": [
    "a = 3.2\n",
    "b = 1.8\n",
    "\n",
    "# substitution\n",
    "def u(x):\n",
    "    return a**(-2/3.0)*(a*x+b)\n",
    "\n",
    "ai, aip, bi, bip = airy(u(0))\n",
    "#print ai, aip, bi, bip"
   ]
  },
  {
   "cell_type": "markdown",
   "metadata": {},
   "source": [
    "solve for $c_1$ and $c_2$\n",
    "<br>\n",
    "$\n",
    "y_0 = y(0) = c_1Ai(u_0)+c_2Bi(u_0)\n",
    "$\n",
    "<br>\n",
    "$\n",
    "y_1 = y'(0) =c_1Aip(u_0)\\cdot u'(u_0) + c_2Bip(u_0)\\cdot u'(u_0)\n",
    "$\n",
    "<br><br>\n",
    "$\n",
    "u'(u_0) = \\frac{d}{dx}a^\\frac{-2}{3}\\cdot (ax+b) = a^\\frac{-2}{3}\\cdot a = a^\\frac{1}{3}\n",
    "$"
   ]
  },
  {
   "cell_type": "code",
   "execution_count": 98,
   "metadata": {},
   "outputs": [
    {
     "name": "stdout",
     "output_type": "stream",
     "text": [
      "-2.268083403180645 0.350728257652854\n"
     ]
    }
   ],
   "source": [
    "y0 = 0\n",
    "y1 = 1\n",
    "def const((c1,c2)):\n",
    "    f1 = c1*ai  + c2*bi  - y0\n",
    "    f2 = c1*aip*a**(1/3.0) + c2*bip*a**(1/3.0) - y1\n",
    "    return f1, f2\n",
    "\n",
    "c1, c2 = fsolve(const, [1,1])\n",
    "print c1, c2\n",
    "#const((c1,c2))"
   ]
  },
  {
   "cell_type": "code",
   "execution_count": 110,
   "metadata": {},
   "outputs": [
    {
     "data": {
      "image/png": "[encoded data removed]",
      "text/plain": [
       "<Figure size 864x288 with 2 Axes>"
      ]
     },
     "metadata": {
      "needs_background": "light"
     },
     "output_type": "display_data"
    }
   ],
   "source": [
    "def model((y0,y1), x):\n",
    "    y2 = (a*x+b)*y0\n",
    "    return y1, y2\n",
    "\n",
    "x = np.linspace(0, 3, 50)\n",
    "ys = odeint(model, [y0,y1] ,x)\n",
    "\n",
    "fig, (ax1,ax2) = plt.subplots(ncols=2, figsize=(12,4))\n",
    "ax2.set_yscale('log')\n",
    "ax1.plot(x, ys[:,0], '-.', label='y (odeint)')\n",
    "ax2.plot(x, ys[:,0], '-.', label='y (odeint)')\n",
    "\n",
    "\n",
    "Ai, Aip, Bi, Bip = airy(u(x))\n",
    "Y = c1*Ai + c2*Bi\n",
    "ax1.plot(x, Y, ':', label='y (Airy)')\n",
    "ax2.plot(x, Y, ':', label='y (Airy)')\n",
    "\n",
    "ax1.set_ylabel('y')\n",
    "ax2.set_ylabel('log(y)')\n",
    "\n",
    "\n",
    "for ax in [ax1,ax2]:\n",
    "    ax.set_xlabel('x')\n",
    "    ax.set_title('exact solution with Airy function')\n",
    "    ax.grid(True);\n",
    "    ax.legend();"
   ]
  },
  {
   "cell_type": "code",
   "execution_count": null,
   "metadata": {},
   "outputs": [],
   "source": []
  }
 ],
 "metadata": {
  "kernelspec": {
   "display_name": "Python 2",
   "language": "python",
   "name": "python2"
  },
  "language_info": {
   "codemirror_mode": {
    "name": "ipython",
    "version": 2
   },
   "file_extension": ".py",
   "mimetype": "text/x-python",
   "name": "python",
   "nbconvert_exporter": "python",
   "pygments_lexer": "ipython2",
   "version": "2.7.15rc1"
  }
 },
 "nbformat": 4,
 "nbformat_minor": 2
}
